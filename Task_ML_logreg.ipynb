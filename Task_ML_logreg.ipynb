{
 "cells": [
  {
   "cell_type": "markdown",
   "id": "911da6e0",
   "metadata": {},
   "source": [
    "<center>\n",
    "<img src=\"https://i.ibb.co/Ycs11Fg/meme.jpg\">\n",
    "</center>\n",
    "\n",
    "# Андан на экономе: домашнее задание 3\n",
    "## Задача классификации"
   ]
  },
  {
   "cell_type": "markdown",
   "id": "c2e40eb8",
   "metadata": {},
   "source": [
    "**ФИО:** Литасов Александр Сергеевич"
   ]
  },
  {
   "cell_type": "markdown",
   "id": "1cfbbcc0",
   "metadata": {},
   "source": [
    "## Общая информация\n",
    "\n",
    "\n",
    "__Дата выдачи:__ 14.04.2023\n",
    "\n",
    "__Мягкий дедлайн:__ 23:59MSK 07.05.2023\n",
    "\n",
    "__Жесткий дедлайн:__ 23:59MSK 14.05.2023"
   ]
  },
  {
   "cell_type": "markdown",
   "id": "8d84cd39",
   "metadata": {},
   "source": [
    "## Оценивание и штрафы\n",
    "\n",
    "Каждая из задач имеет определенную «стоимость» (указана в скобках около задачи). Максимально допустимая оценка за работу — 100 баллов. За каждый день просрочки после мягкого дедлайна снимается 10 баллов. После жёсткого дедлайна работы не принимаются. Даже при опозданиии на одну секунду. Сдавайте работы заранее.\n",
    "\n",
    "Мягкий дедлайн можно отодвинуть без потери баллов на 1,2 или 3 дня. Суммарно для откладывания в запасе есть три дня. Можно отодвинуть один дедлайн на три дня, а можно три дедлайна подвинуть на один день. Распоряжаться этими днями студент может как угодно. Жёсткий дедлайн, при этом, не меняется. Если такое произошло, нужно сообщить о сдвиге при сдаче работы.\n",
    "\n",
    "Задание выполняется самостоятельно. «Похожие» решения считаются плагиатом и все задействованные студенты (в том числе те, у кого списали) не могут получить за него больше 0 баллов. Если вы нашли решение какого-то из заданий (или его часть) в открытом источнике, необходимо указать ссылку на этот источник (скорее всего вы будете не единственным, кто это нашел, поэтому чтобы исключить подозрение в плагиате, необходима ссылка на источник).\n",
    "\n",
    "Любой из студентов может быть вызван на защиту любого домашнего задания. В таком случае итоговая оценка студента определяется в результате защиты.\n",
    "\n",
    "> За отсутствие названий графиков и подписей к осям могут снижаться баллы. Все картинки должны быть самодостаточны и визуально удобны для восприятия, так чтобы не нужно было смотреть ваш код или знать задание, чтобы понять что на них изображено. \n",
    "\n",
    "> Выводы должны быть релевантными. Не забывайте их писать. Если в вопросе требуется ответ словами, а его нет, вы будете терять довольно много баллов.\n",
    "\n",
    "> Фиксируйте все seed'ы, random_state'ы и тд - ваш код должен быть воспроизводим с теми же результатами."
   ]
  },
  {
   "cell_type": "markdown",
   "id": "9c9727df",
   "metadata": {},
   "source": [
    "## Формат сдачи\n",
    "\n",
    "Сам ноутбук называйте в формате hw-03-USERNAME.ipynb, где USERNAME — ваши фамилия и имя. Файл сдаётся в anytask."
   ]
  },
  {
   "cell_type": "markdown",
   "id": "7b55058a",
   "metadata": {},
   "source": [
    "## Импорт необходимых библиотек "
   ]
  },
  {
   "cell_type": "markdown",
   "id": "f7deb1cc",
   "metadata": {},
   "source": [
    "Импортируйте все используемые библиотеки здесь."
   ]
  },
  {
   "cell_type": "code",
   "execution_count": 1,
   "id": "9311e523",
   "metadata": {},
   "outputs": [],
   "source": [
    "# Ваш код здесь\n",
    "\n",
    "\n",
    "# Отключение некоторых лишних предупреждений\n",
    "import warnings\n",
    "warnings.filterwarnings(\"ignore\")"
   ]
  },
  {
   "cell_type": "markdown",
   "id": "8e5cf1b8",
   "metadata": {},
   "source": [
    "## Задача "
   ]
  },
  {
   "cell_type": "markdown",
   "id": "c6f6920e",
   "metadata": {},
   "source": [
    "В данном задании вам необходимо построить предсказательную модель, определяющую пол клиента по его банковским транзакциям.\n",
    "\n",
    "Вам доступны 2 файла:\n",
    "* __transaction.csv__ - файл с транзакциями, колонки:\n",
    "    * user_id - целочисленный идентификатор пользователя\n",
    "    * dt - дата и время совершения транзации, принцип кодирования: \"DAY TIME\"\n",
    "        * DAY - порядковый день транзации с начала сбора данных\n",
    "        * TIME - время в формате hh:mm:ss\n",
    "    * type - тип (категория) совершаемой транзакции\n",
    "    * value - сумма транзакции\n",
    "    \n",
    "* __gender.csv__ - файл с данными о полах клиентов.\n",
    "    * user_id - целочисленный идентификатор пользователя\n",
    "    * gender - целевая переменная, закодированная лейблами 0 и 1. Это сделано:\n",
    "        * a) для удобства\n",
    "        * б) для избежания холиваров о правильности исходных меток \n",
    "\n",
    "Но если вы вдруг захотите похоливарить о том, что метки только две - то заметьте, что о полноте данных мы тоже не утверждаем."
   ]
  },
  {
   "cell_type": "markdown",
   "id": "56da0228",
   "metadata": {},
   "source": [
    "# Часть 1: минималочка [макс 20 баллов]"
   ]
  },
  {
   "cell_type": "markdown",
   "id": "cb568469",
   "metadata": {},
   "source": [
    "В этой части мы с вами попробуем построить самую простую модель для предсказания.\n",
    "\n",
    "Как мы с вами увидим: главная сложность - правильная подготовка данных. В таких задачах то, как именно вы преобразуете данные для обучения модели и будет во много определять её качество.\n",
    "\n",
    "В этой части мы сделаем простое преобразование данных путём простой агрегации данных о величине транзакций. "
   ]
  },
  {
   "cell_type": "markdown",
   "id": "3d8c2bf8",
   "metadata": {},
   "source": [
    "## Загрузка данных [5 баллов] "
   ]
  },
  {
   "cell_type": "markdown",
   "id": "b324b6bb",
   "metadata": {},
   "source": [
    "Скачайте данные для задачи с Яндекс.Диска:\n",
    "https://disk.yandex.ru/d/DGy6bbLaMZmrQg.\n",
    "\n",
    "Загрузите файлы с транзакциями и целевой меткой в pd.DataFrame.\n",
    "\n",
    "__Внимание__: у файла transactions.csv колоночный разделитель - точка с запятой \";\""
   ]
  },
  {
   "cell_type": "code",
   "execution_count": 2,
   "id": "12a08af9",
   "metadata": {},
   "outputs": [],
   "source": [
    "import pandas as pd\n",
    "transactions = pd.read_csv('/Users/slitasov/Downloads/transactions.csv', sep=';')\n",
    "gender = pd.read_csv('/Users/slitasov/Downloads/gender.csv')\n",
    "df = pd.merge(transactions, gender, on='user_id')\n"
   ]
  },
  {
   "cell_type": "markdown",
   "id": "ad3a83c9",
   "metadata": {},
   "source": [
    "## Подготовка данных [10 баллов] \n",
    "\n",
    "Для данной задачи необходимо как-то собрать данные для каждого пользователя в один вектор (строку таблицы). Сейчас, как вы можете увидеть, в таблице с данными одному пользователю может соответствовать много строк (каждая операция - отдельная строка).\n",
    "\n",
    "Таким образом, необходима агрегация данных - это можно сделать множеством разных способов."
   ]
  },
  {
   "cell_type": "markdown",
   "id": "567817e8",
   "metadata": {},
   "source": [
    "### Агрегация "
   ]
  },
  {
   "cell_type": "markdown",
   "id": "e3c812ef",
   "metadata": {},
   "source": [
    "Произведите простую агрегацию данных и для каждого пользователя в качестве признаков получите сумму, среднее и стандартное отклонение величины его транзакций. \n",
    "\n",
    "Так же добавите для каждого пользователя колонку с таргетом.\n",
    "\n",
    "По итогу вы должны получить таблицу с колонками:\n",
    "* user_id\n",
    "* value_sum\n",
    "* value_mean\n",
    "* value_std\n",
    "* gender"
   ]
  },
  {
   "cell_type": "code",
   "execution_count": 3,
   "id": "fae2c4e0",
   "metadata": {},
   "outputs": [],
   "source": [
    "aggregated_data = df.groupby('user_id', as_index=False)['value'].agg(['sum', 'mean', 'std']).reset_index()\n",
    "aggregated_data.columns = ['user_id', 'value_sum', 'value_mean', 'value_std']\n",
    "aggregated_data = pd.merge(aggregated_data, gender, on='user_id')\n"
   ]
  },
  {
   "cell_type": "code",
   "execution_count": 4,
   "id": "62c0fa0e",
   "metadata": {},
   "outputs": [
    {
     "data": {
      "text/html": [
       "<div>\n",
       "<style scoped>\n",
       "    .dataframe tbody tr th:only-of-type {\n",
       "        vertical-align: middle;\n",
       "    }\n",
       "\n",
       "    .dataframe tbody tr th {\n",
       "        vertical-align: top;\n",
       "    }\n",
       "\n",
       "    .dataframe thead th {\n",
       "        text-align: right;\n",
       "    }\n",
       "</style>\n",
       "<table border=\"1\" class=\"dataframe\">\n",
       "  <thead>\n",
       "    <tr style=\"text-align: right;\">\n",
       "      <th></th>\n",
       "      <th>user_id</th>\n",
       "      <th>value_sum</th>\n",
       "      <th>value_mean</th>\n",
       "      <th>value_std</th>\n",
       "      <th>gender</th>\n",
       "    </tr>\n",
       "  </thead>\n",
       "  <tbody>\n",
       "    <tr>\n",
       "      <th>0</th>\n",
       "      <td>22899</td>\n",
       "      <td>274383.315</td>\n",
       "      <td>2143.619648</td>\n",
       "      <td>656.186785</td>\n",
       "      <td>1.0</td>\n",
       "    </tr>\n",
       "    <tr>\n",
       "      <th>1</th>\n",
       "      <td>27914</td>\n",
       "      <td>166436.523</td>\n",
       "      <td>2521.765500</td>\n",
       "      <td>415.972053</td>\n",
       "      <td>1.0</td>\n",
       "    </tr>\n",
       "    <tr>\n",
       "      <th>2</th>\n",
       "      <td>28753</td>\n",
       "      <td>251578.185</td>\n",
       "      <td>1980.930591</td>\n",
       "      <td>749.304999</td>\n",
       "      <td>0.0</td>\n",
       "    </tr>\n",
       "    <tr>\n",
       "      <th>3</th>\n",
       "      <td>31385</td>\n",
       "      <td>717856.052</td>\n",
       "      <td>2323.158744</td>\n",
       "      <td>632.491585</td>\n",
       "      <td>0.0</td>\n",
       "    </tr>\n",
       "    <tr>\n",
       "      <th>4</th>\n",
       "      <td>38084</td>\n",
       "      <td>1360028.958</td>\n",
       "      <td>2095.576206</td>\n",
       "      <td>649.030870</td>\n",
       "      <td>0.0</td>\n",
       "    </tr>\n",
       "    <tr>\n",
       "      <th>...</th>\n",
       "      <td>...</td>\n",
       "      <td>...</td>\n",
       "      <td>...</td>\n",
       "      <td>...</td>\n",
       "      <td>...</td>\n",
       "    </tr>\n",
       "    <tr>\n",
       "      <th>8351</th>\n",
       "      <td>99953525</td>\n",
       "      <td>159252.786</td>\n",
       "      <td>1608.614000</td>\n",
       "      <td>709.903466</td>\n",
       "      <td>0.0</td>\n",
       "    </tr>\n",
       "    <tr>\n",
       "      <th>8352</th>\n",
       "      <td>99967537</td>\n",
       "      <td>13026.313</td>\n",
       "      <td>2605.262600</td>\n",
       "      <td>123.013557</td>\n",
       "      <td>1.0</td>\n",
       "    </tr>\n",
       "    <tr>\n",
       "      <th>8353</th>\n",
       "      <td>99988578</td>\n",
       "      <td>1304612.429</td>\n",
       "      <td>2185.280451</td>\n",
       "      <td>638.235664</td>\n",
       "      <td>1.0</td>\n",
       "    </tr>\n",
       "    <tr>\n",
       "      <th>8354</th>\n",
       "      <td>99991245</td>\n",
       "      <td>249213.163</td>\n",
       "      <td>2026.123276</td>\n",
       "      <td>739.432221</td>\n",
       "      <td>1.0</td>\n",
       "    </tr>\n",
       "    <tr>\n",
       "      <th>8355</th>\n",
       "      <td>99999680</td>\n",
       "      <td>512044.107</td>\n",
       "      <td>2015.921681</td>\n",
       "      <td>782.301092</td>\n",
       "      <td>1.0</td>\n",
       "    </tr>\n",
       "  </tbody>\n",
       "</table>\n",
       "<p>8356 rows × 5 columns</p>\n",
       "</div>"
      ],
      "text/plain": [
       "       user_id    value_sum   value_mean   value_std  gender\n",
       "0        22899   274383.315  2143.619648  656.186785     1.0\n",
       "1        27914   166436.523  2521.765500  415.972053     1.0\n",
       "2        28753   251578.185  1980.930591  749.304999     0.0\n",
       "3        31385   717856.052  2323.158744  632.491585     0.0\n",
       "4        38084  1360028.958  2095.576206  649.030870     0.0\n",
       "...        ...          ...          ...         ...     ...\n",
       "8351  99953525   159252.786  1608.614000  709.903466     0.0\n",
       "8352  99967537    13026.313  2605.262600  123.013557     1.0\n",
       "8353  99988578  1304612.429  2185.280451  638.235664     1.0\n",
       "8354  99991245   249213.163  2026.123276  739.432221     1.0\n",
       "8355  99999680   512044.107  2015.921681  782.301092     1.0\n",
       "\n",
       "[8356 rows x 5 columns]"
      ]
     },
     "execution_count": 4,
     "metadata": {},
     "output_type": "execute_result"
    }
   ],
   "source": [
    "aggregated_data"
   ]
  },
  {
   "cell_type": "markdown",
   "id": "194e73a7",
   "metadata": {},
   "source": [
    "### Отложенная выборка "
   ]
  },
  {
   "cell_type": "markdown",
   "id": "d3f431ee",
   "metadata": {},
   "source": [
    "Получите полный список пользователей и разделите их на два списка:\n",
    "* тренировочный список пользователей (80%)\n",
    "* тестовый список пользователей (20%)"
   ]
  },
  {
   "cell_type": "markdown",
   "id": "646a73cf",
   "metadata": {},
   "source": [
    "__Важное замечание__: Далее во всех пунктах, где вам нужно провалидировать (оценить) получившуюся модель исползуйте данные только для этих тестовых пользователей.\n",
    "\n",
    "Обучать все модели, естественно, нужно только на данных пользователей из обучающего списка."
   ]
  },
  {
   "cell_type": "code",
   "execution_count": 5,
   "id": "a74ea5aa",
   "metadata": {},
   "outputs": [],
   "source": [
    "from sklearn.model_selection import train_test_split"
   ]
  },
  {
   "cell_type": "code",
   "execution_count": 6,
   "id": "5b3b9cbc",
   "metadata": {},
   "outputs": [],
   "source": [
    "import pandas \n",
    "aggregated_data = aggregated_data.fillna(aggregated_data.mean())\n"
   ]
  },
  {
   "cell_type": "markdown",
   "id": "c4e54aa8",
   "metadata": {},
   "source": [
    "Для нашей задачи получите признаки и целевые метки обучающей и тестовой выборки. "
   ]
  },
  {
   "cell_type": "code",
   "execution_count": 7,
   "id": "e947e769",
   "metadata": {},
   "outputs": [],
   "source": [
    "X_train, X_test, y_train,y_test = train_test_split(aggregated_data.drop(columns ='gender'), aggregated_data['gender'] , test_size=0.2, random_state = 43)"
   ]
  },
  {
   "cell_type": "markdown",
   "id": "852a5e0c",
   "metadata": {},
   "source": [
    "## Обучение и оценка модели [5 баллов] "
   ]
  },
  {
   "cell_type": "markdown",
   "id": "0d3a14bb",
   "metadata": {},
   "source": [
    "Обучите модель логистической регрессии с дефолтными параметрами.\n",
    "\n",
    "Получите предсказания вероятностей первого класса."
   ]
  },
  {
   "cell_type": "code",
   "execution_count": 8,
   "id": "9b458875",
   "metadata": {},
   "outputs": [],
   "source": [
    "from sklearn.linear_model import LogisticRegression\n",
    "\n",
    "lr = LogisticRegression()\n",
    "lr.fit(X_train, y_train)\n",
    "\n",
    "y_train_pred = lr.predict_proba(X_train)[:, 1] #берем вероятнсть только первого класса\n",
    "y_test_pred = lr.predict_proba(X_test)[:, 1] #берем вероятнсть только первого класса"
   ]
  },
  {
   "cell_type": "markdown",
   "id": "f2345148",
   "metadata": {},
   "source": [
    "### Валидация "
   ]
  },
  {
   "cell_type": "markdown",
   "id": "ee3576b3",
   "metadata": {},
   "source": [
    "Посчитайте ROC_AUC, accuracy, precision, recall для получившихся предсказаний.\n",
    "\n",
    "Для метрик, для которых необходимы метки классов, а не вероятности - используйте порог 0.5.\n",
    "\n",
    "Далее при оценки других моделей приводите эти же метрики (если явно не указано иное)."
   ]
  },
  {
   "cell_type": "code",
   "execution_count": 9,
   "id": "434f611a",
   "metadata": {},
   "outputs": [
    {
     "name": "stdout",
     "output_type": "stream",
     "text": [
      "ROC AUC 0.48960860423742525\n",
      "фccuracy 0.5478468899521531\n",
      "precision 0.0\n",
      "recall 0.0\n"
     ]
    }
   ],
   "source": [
    "from sklearn.metrics import roc_auc_score, accuracy_score,precision_score, recall_score\n",
    "\n",
    "y_train_pred_labels = (y_train_pred >= 0.5)\n",
    "y_test_pred_labels = (y_test_pred >= 0.5)\n",
    "\n",
    "roc_auc = roc_auc_score(y_test,  y_test_pred)\n",
    "accuracy = accuracy_score(y_test, y_test_pred_labels)\n",
    "precision =precision_score(y_test, y_test_pred_labels)\n",
    "recall = recall_score(y_test, y_test_pred_labels)\n",
    "\n",
    "print(\"ROC AUC\", roc_auc)\n",
    "print(\"фccuracy\", accuracy)\n",
    "print(\"precision\", precision)\n",
    "print(\"recall\", recall)\n"
   ]
  },
  {
   "cell_type": "markdown",
   "id": "9c06a7c5",
   "metadata": {},
   "source": [
    "### Вывод"
   ]
  },
  {
   "cell_type": "markdown",
   "id": "6e95c3d8",
   "metadata": {},
   "source": [
    "Как вы оцениваете качество получившейся модели и возможные причины такого качества?\n",
    "\n",
    "__Ваш вывод:__\n",
    "\n",
    "- precision и recall составляют 0, а ROC AUC и accuracy говорят о том, что даваемые моделью предсказания почти рандомны. Слабость модели можно объяснить невозможностью линейного разделения данных и слишком высоким порогом отнесения данных к классу 1 (при уменьшении порога precision и recall возрастают, но ROC AUC и accuracy не изменяются)\n",
    "\n",
    "- Однако, учитывая дальнейшее задание, слабость модели объясняется тем, что мы пытаемся определить пол человека по сумме его покупок, не обращая внимания на то, что именно он покупает"
   ]
  },
  {
   "cell_type": "markdown",
   "id": "e94a47be",
   "metadata": {},
   "source": [
    "# Часть 2: мб сделаем что-то более серьёзное? [макс 20 баллов]"
   ]
  },
  {
   "cell_type": "markdown",
   "id": "6724dd97",
   "metadata": {},
   "source": [
    "Давайте попробуем улучшить качество решения задачи за счёт другого метода подготовки данных.\n",
    "\n",
    "Ранее мы использовали простое преобразование, когда каждый клиент описывался только 3 значениями.\n",
    "Давайте сделаем что-то более сложное и попробуем добавить больше данных о клиенте для модели."
   ]
  },
  {
   "cell_type": "markdown",
   "id": "c5cf8456",
   "metadata": {},
   "source": [
    "## Подготовка данных [15 баллов]"
   ]
  },
  {
   "cell_type": "markdown",
   "id": "d30f62ce",
   "metadata": {},
   "source": [
    "Воспользуемся тем, что каждая транзакция у нас имеет свой тип - это уж точно более информативно, чем агрегация по всем транзакциям.\n",
    "\n",
    "Создайте сводную таблицу, где для каждого клиента (строка) будут указаны его суммарные траты на каждую категорию (столбец). Таким образом, вы должны получить таблицу с числом строк равным количеству клиентов и числом столбцов - количеству категорий трат. Каждая ячейка должна содержать суммарные траты данного клиента в данной категории.\n",
    "\n",
    "__Подсказка__: у DataFrame есть полезный метод `pivot_table`."
   ]
  },
  {
   "cell_type": "code",
   "execution_count": 10,
   "id": "a90e86e4",
   "metadata": {},
   "outputs": [],
   "source": [
    "import pandas as pd\n",
    "transactions = pd.read_csv('/Users/slitasov/Downloads/transactions.csv', sep=';')\n",
    "gender = pd.read_csv('/Users/slitasov/Downloads/gender.csv')\n",
    "pivoted = transactions.pivot_table(index='user_id', columns='type', values='value', aggfunc='sum')\n",
    "pivoted = pd.merge(pivoted, gender, on='user_id')\n"
   ]
  },
  {
   "cell_type": "markdown",
   "id": "ad21c6ef",
   "metadata": {},
   "source": [
    "## Обучение и валидация модели [5 баллов]"
   ]
  },
  {
   "cell_type": "markdown",
   "id": "39a87010",
   "metadata": {},
   "source": [
    "Аналогично предыдущей части разделите данные на обучающую и тестовую выборку (80%/20%), обучите модель на дефолтных параметрах и оцените качество."
   ]
  },
  {
   "cell_type": "code",
   "execution_count": 11,
   "id": "8aa668ce",
   "metadata": {},
   "outputs": [],
   "source": [
    "import pandas \n",
    "pivoted = pivoted.fillna(pivoted.mean())"
   ]
  },
  {
   "cell_type": "code",
   "execution_count": 12,
   "id": "ef998e90",
   "metadata": {},
   "outputs": [],
   "source": [
    "X_train, X_test, y_train, y_test = train_test_split(pivoted.drop(columns ='gender'), pivoted['gender'] , test_size=0.2, random_state = 43)"
   ]
  },
  {
   "cell_type": "code",
   "execution_count": 13,
   "id": "93e0ba5a",
   "metadata": {},
   "outputs": [],
   "source": [
    "from sklearn.linear_model import LogisticRegression\n",
    "\n",
    "lr = LogisticRegression()\n",
    "lr.fit(X_train, y_train)\n",
    "\n",
    "y_train_pred = lr.predict_proba(X_train)[:, 1] #берем вероятнсть только первого класса\n",
    "y_test_pred = lr.predict_proba(X_test)[:, 1] #берем вероятнсть только первого класса"
   ]
  },
  {
   "cell_type": "code",
   "execution_count": 14,
   "id": "e6b1f90d",
   "metadata": {},
   "outputs": [
    {
     "name": "stdout",
     "output_type": "stream",
     "text": [
      "ROC AUC 0.5665736697396087\n",
      "фccuracy 0.5759569377990431\n",
      "precision 0.5880149812734082\n",
      "recall 0.20767195767195767\n"
     ]
    }
   ],
   "source": [
    "from sklearn.metrics import roc_auc_score, accuracy_score,precision_score, recall_score\n",
    "\n",
    "y_train_pred_labels = (y_train_pred >= 0.5)\n",
    "y_test_pred_labels = (y_test_pred >= 0.5)\n",
    "\n",
    "roc_auc = roc_auc_score(y_test,  y_test_pred)\n",
    "accuracy = accuracy_score(y_test, y_test_pred_labels)\n",
    "precision =precision_score(y_test, y_test_pred_labels)\n",
    "recall = recall_score(y_test, y_test_pred_labels)\n",
    "\n",
    "print(\"ROC AUC\", roc_auc)\n",
    "print(\"фccuracy\", accuracy)\n",
    "print(\"precision\", precision)\n",
    "print(\"recall\", recall)\n"
   ]
  },
  {
   "cell_type": "markdown",
   "id": "8f67c1fb",
   "metadata": {},
   "source": [
    "### Вывод "
   ]
  },
  {
   "cell_type": "markdown",
   "id": "3988e390",
   "metadata": {},
   "source": [
    "Изменилось ли качество модели? Почему?\n",
    "\n",
    "__Ваш вывод:__ Качество модели изменилось в лучшую сторону, потому что мы начали смотреть на то, что покупает каждый конкретный человек и из этого определять его пол"
   ]
  },
  {
   "cell_type": "markdown",
   "id": "39eb4d89",
   "metadata": {},
   "source": [
    "# Часть 3: что мы всё про данные? Давайте про модель \n",
    "# [макс 30 баллов]"
   ]
  },
  {
   "cell_type": "markdown",
   "id": "132aaef6",
   "metadata": {},
   "source": [
    "Ранее мы работали только над подготовкой обучающей выборки. Давайте теперь попробуем изменить модель, чтобы добиться наилучшего качества. \n",
    "\n",
    "Входные данные для этой части - выборка с предыдущей."
   ]
  },
  {
   "cell_type": "markdown",
   "id": "381b15b7",
   "metadata": {},
   "source": [
    "## Нормирование данных [5 баллов] "
   ]
  },
  {
   "cell_type": "markdown",
   "id": "0a268750",
   "metadata": {},
   "source": [
    "Как мы знаем, линейные модели любят нормированные данные.\n",
    "\n",
    "Приведите значения всех признаков в отрезок [0, 1]\n",
    "\n",
    "__Замечание__: если вы используете метод, который удаляет информацию о названиях колонок - сохраните эти названия в отдельную переменную, вам это потом может понадобиться."
   ]
  },
  {
   "cell_type": "code",
   "execution_count": 21,
   "id": "7c34f5de",
   "metadata": {},
   "outputs": [],
   "source": [
    "from sklearn.preprocessing import StandardScaler\n",
    "\n",
    "scaler = StandardScaler()\n",
    "columns = pivoted.columns.tolist()\n",
    "pivoted = scaler.fit_transform(pivoted)\n",
    "pivoted = pd.DataFrame(pivoted, columns=columns)"
   ]
  },
  {
   "cell_type": "markdown",
   "id": "7adad023",
   "metadata": {},
   "source": [
    "## Подбор параметров [15 баллов]"
   ]
  },
  {
   "cell_type": "markdown",
   "id": "e3a63257",
   "metadata": {},
   "source": [
    "Подберите наилучшие параметры для модели линейной регрессии. Важные уточнения:\n",
    "\n",
    "* используйте перебор по сетке\n",
    "* в качестве метрики используйте ROC AUC\n",
    "* для оценки параметров делайте кросс-валидацию на 4 фолдах\n",
    "\n",
    "__Замечание__: у линейной регрессии множество доступных значений для некоторых параметров зависит от метода оптимизации (solver). Например, lbfgs-алгоритм не подерживает l1-регуляризацию.\n",
    "\n",
    "Поэтому действуйте шагами: сначала подберите solver, а потом уже переберите доступные для него параметры."
   ]
  },
  {
   "cell_type": "markdown",
   "id": "d19e598d",
   "metadata": {},
   "source": [
    "#####   Предполагаю, в задании опечатка, и использовать нужно было логистическую регрессию, как и ранее - у линейной регрессии нет solver"
   ]
  },
  {
   "cell_type": "code",
   "execution_count": 22,
   "id": "8198a4c5",
   "metadata": {
    "scrolled": false
   },
   "outputs": [
    {
     "data": {
      "text/plain": [
       "GridSearchCV(cv=4, estimator=LogisticRegression(),\n",
       "             param_grid={'C': [0.1, 1, 10, 100],\n",
       "                         'solver': ['lbfgs', 'liblinear', 'sag', 'saga']},\n",
       "             scoring='roc_auc')"
      ]
     },
     "execution_count": 22,
     "metadata": {},
     "output_type": "execute_result"
    }
   ],
   "source": [
    "from sklearn.model_selection import GridSearchCV # для подбора solver и параметра регуляризации \n",
    "\n",
    "model = LogisticRegression()\n",
    "param_grid = { 'solver': ['lbfgs', 'liblinear', 'sag'],'C': [0.1, 1, 10, 100]}\n",
    "\n",
    "grid_search = GridSearchCV(model, param_grid, cv=4, scoring='roc_auc')\n",
    "grid_search.fit(X_train, y_train)"
   ]
  },
  {
   "cell_type": "code",
   "execution_count": 23,
   "id": "d5351861",
   "metadata": {},
   "outputs": [
    {
     "data": {
      "text/plain": [
       "'liblinear'"
      ]
     },
     "execution_count": 23,
     "metadata": {},
     "output_type": "execute_result"
    }
   ],
   "source": [
    "grid_search.best_params_['solver'] # лучший solver"
   ]
  },
  {
   "cell_type": "markdown",
   "id": "d6c296ef",
   "metadata": {},
   "source": [
    "Оцените качество лучшей модели на тестовых данных аналогично предыдущим задачам."
   ]
  },
  {
   "cell_type": "code",
   "execution_count": 26,
   "id": "3092b220",
   "metadata": {},
   "outputs": [
    {
     "name": "stdout",
     "output_type": "stream",
     "text": [
      "ROC AUC 0.5665736697396087\n",
      "фccuracy 0.5759569377990431\n",
      "precision 0.5880149812734082\n",
      "recall 0.20767195767195767\n"
     ]
    }
   ],
   "source": [
    "model = LogisticRegression(solver=grid_search.best_params_['solver'], C=grid_search.best_params_['C'])\n",
    "model.fit(X_train, y_train)\n",
    "\n",
    "y_train_pred = lr.predict_proba(X_train)[:, 1] #берем вероятнсть только первого класса\n",
    "y_test_pred = lr.predict_proba(X_test)[:, 1] #берем вероятнсть только первого класса\n",
    "\n",
    "y_train_pred_labels = (y_train_pred >= 0.5)\n",
    "y_test_pred_labels = (y_test_pred >= 0.5)\n",
    "\n",
    "roc_auc = roc_auc_score(y_test,  y_test_pred)\n",
    "accuracy = accuracy_score(y_test, y_test_pred_labels)\n",
    "precision =precision_score(y_test, y_test_pred_labels)\n",
    "recall = recall_score(y_test, y_test_pred_labels)\n",
    "\n",
    "print(\"ROC AUC\", roc_auc)\n",
    "print(\"фccuracy\", accuracy)\n",
    "print(\"precision\", precision)\n",
    "print(\"recall\", recall)\n"
   ]
  },
  {
   "cell_type": "markdown",
   "id": "a5f49648",
   "metadata": {},
   "source": [
    "Получилось ли добиться лучше качества при подборе параметров?\n",
    "Почему так? \n",
    "\n",
    "Для чего мы использовали одновременно кросс-валидацию и отложенную тестовую выборку?\n",
    "\n",
    "__Ваш вывод__:\n",
    "\n",
    "- Нет, данные не получилось улучшить - ROC AUC упал\n",
    "\n",
    "- Использование одновременно кросс-валидации и отложенной выборки позволило нам обучить модель на большем количестве данных и избежать переобучения за счет чередования тестовых выборок"
   ]
  },
  {
   "cell_type": "markdown",
   "id": "4db51ec9",
   "metadata": {},
   "source": [
    "## Подбор отсечения [5 баллов]"
   ]
  },
  {
   "cell_type": "markdown",
   "id": "9b9d5678",
   "metadata": {},
   "source": [
    "Ранее мы работали или с вероятностями из модели или с метками, полученных при отсечении по веростности с порогом 0.5.\n",
    "\n",
    "Стоит сказать, что порог 0.5 для разделения классов не всегда самый лучший. Часто нам нужно так подобрать порог, чтобы удовлетворить наши требования по точности и полноте.\n",
    "\n",
    "Давайте подберём порог, который максимизирует F_beta меру при условии, что нам полнота в 5 раз важнее точности.\n",
    "\n",
    "Вычислите наилучший порог и нарисуйте график зависимости этой метрики от порога разделения."
   ]
  },
  {
   "cell_type": "code",
   "execution_count": 27,
   "id": "6133e980",
   "metadata": {},
   "outputs": [
    {
     "name": "stdout",
     "output_type": "stream",
     "text": [
      "Оптимальный порог -  0.0\n"
     ]
    },
    {
     "data": {
      "image/png": "[encoded data removed]",
      "text/plain": [
       "<Figure size 432x288 with 1 Axes>"
      ]
     },
     "metadata": {
      "needs_background": "light"
     },
     "output_type": "display_data"
    }
   ],
   "source": [
    "from sklearn.metrics import fbeta_score\n",
    "import numpy as np\n",
    "import matplotlib.pyplot as plt\n",
    "\n",
    "beta = 5\n",
    "f_scores = []\n",
    "thresholds = np.arange(0, 1.0, 0.1)\n",
    "\n",
    "for threshold in thresholds:\n",
    "    y_pred = (y_test_pred >=threshold)\n",
    "    f_scores.append(fbeta_score(y_test, y_pred, beta=beta))\n",
    "\n",
    "threshold = thresholds[np.argmax(f_scores)]\n",
    "\n",
    "print(\"Оптимальный порог - \", threshold)\n",
    "\n",
    "plt.plot(thresholds, f_scores,label=\"F-score\")\n",
    "plt.legend()\n",
    "plt.xlabel(\"Порог\")\n",
    "plt.ylabel(\"F-score\")\n",
    "plt.title(\"Подбор лучшего порога для классификации \")\n",
    "plt.show()"
   ]
  },
  {
   "cell_type": "markdown",
   "id": "9692dde3",
   "metadata": {},
   "source": [
    "## Интерпретация модели [5 баллов]"
   ]
  },
  {
   "cell_type": "markdown",
   "id": "fda297e1",
   "metadata": {},
   "source": [
    "Часто нам хочется интерпритировать предсказания модели - понять, как наши признаки влияют на её ответ.\n",
    "В случае сложных моделей сделать это не просто - чем сложнее модель, тем более сложные закономерности она извлекает и тем тяжелее нам их понять.\n",
    "\n",
    "Но в случае логистической регресии это просто сделать, посмотрев на её обучаемые параметры (вспоминайте!).\n",
    "\n",
    "Получите список признаков, которые увеличивают вероятность метки 0.\n",
    "Аналогично для метки 1."
   ]
  },
  {
   "cell_type": "code",
   "execution_count": 28,
   "id": "2625f3ef",
   "metadata": {
    "scrolled": false
   },
   "outputs": [
    {
     "name": "stdout",
     "output_type": "stream",
     "text": [
      "Признаки, увеличивающие вероятность метки 0 ['user_id', 'Авиалинии, авиакомпании, нигде более не классифицированные', 'Автомойки', 'Агентства по автотранспортным перевозкам, местные/дальные автогрузоперевозки, компании попереезду и хранению, местная доставка', 'Агентства по аренде автомобилей', 'Агенты и менеджеры по аренде недвижимости', 'Аксессуары для женщин', 'Аптеки', 'Беспошлинные магазины Duty Free', 'Бизнес-сервис', 'Билльярд-клубы', 'Больницы', 'Боулинг-клубы', 'Булочные', 'Бытовое оборудование', 'Ветеринарные услуги', 'Генеральные подрядчики по вентиляции, теплоснабжению, и водопроводу', 'Готовая женская одежда', 'Денежные переводы', 'Дилеры по продаже печатной продукции', 'Дорожный и мостовой сборы, пошлины', 'Драгоценные камни и металлы, часы и ювелирные изделия', 'Звонки с использованием телефонов, считывающих магнитную ленту', 'Зоомагазины', 'Зубные и медицинские лаборатории', 'Изготовление и продажа меховых изделий', 'Иной сервис', 'Клубы — сельские клубы, членство(спортивный, отдых, спорт), частные поля для гольфа', 'Книги, периодические издания и газеты', 'Коммунальные услуги — электричество, газ, санитария, вода', 'Кондитерские', 'Легковой и грузовой транспорт — продажа, сервис, ремонт, запчасти и лизинг', 'Лекарства, их распространители, аптеки', 'Луна-парки, карнавалы, цирки, предсказатели будущего', 'Магазины second hand, магазины б/у товаров, комиссионки', 'Магазины звукозаписи', 'Магазины косметики', 'Магазины мужской и женской одежды', 'Магазины открыток, подарков, новинок и сувениров', 'Магазины офисных, школьных принадлежностей, канцтоваров', 'Магазины по продаже часов, ювелирных изделий и изделий из серебра', 'Магазины ткани, ниток рукоделия, шитья', 'Магазины хрусталя и изделий из стекла', 'Магазины художественных и ремесленных изделий', 'Магазины, торгующие по сниженным ценам', 'Налоговые платежи', 'Нефть и нефтепродукты', 'Оборудование для выращивания растений, инвентарь для питомников и цветы', 'Образовательные услуги', 'Обувные магазины', 'Одежда для всей семьи', 'Организации благотворительные и общественные службы', 'Организации, членства, нигде ранее не классифицируемые', 'Ортопедические товары', 'Отели, мотели, базы отдыха, сервисы бронирования', 'Офисное, фотографическое, фотокопировальное, и микрофильмирующее оборудование', 'Паркинги и гаражи', 'Пассажирские железные перевозки', 'Плавательные бассейны — распродажа', 'Подрядчики по электричеству', 'Поставщики грузовиков и запчастей', 'Почтовые услуги — только правительство', 'Правительственные услуги, нигде ранее не классифицируемые', 'Программирование, обработка данных, интегрированные системы, дизайн', 'Продажа компьютерного программного обеспечения', 'Продажа мотоциклов', 'Продажа музыкальных инструментов, фортепиано, нот', 'Продажа снегоходов', 'Продажа страхования, гарантированное размещение, премии', 'Производство и дистрибуция видеофильмов', 'Промышленное оборудование — нигде более не классифицированное', 'Профессиональные услуги, нигде ранее не классифицируемые', 'Прямой маркетинг — другие торговые точки прямого маркетинга (нигде более не классифицированные)', 'Прямой маркетинг — комбинированный каталог и торговцы в розницу', 'Прямой маркетинг — торговля через каталог', 'Различные магазины одежды и аксессуаров', 'Разнообразные издательства/печатное дело', 'Рекламные услуги', 'Ремонт бытовой техники, ремонт электроприборы', 'Розничная продажа стекла, красок и обоев', 'Сервисы по покупке/продаже', 'Скобяные товары в розницу', 'Службы знакомств', 'Спортивная одежда, одежда для верховой езды и езды на мотоцикле', 'Станции технического обслуживания для автомобильного транспорта', 'Стоматологическое/лабороторное/медицинское/офтальмологическое стационарное оборудование и устройства', 'Табачные магазины', 'Ткани, обивочный материал, гардины и портьеры, жалюзи', 'Товары длительного пользования — нигде более не классифицированные', 'Товары для дома', 'Туристические агентства и организаторы экскурсий', 'Туристические аттракционы и шоу', 'Услуги отдыха, нигде ранее не классифицируемые', 'Услуги по переделке, починке и пошиву одежды', 'Финансовые институты — снятие наличности вручную', 'Финансовые институты — торговля и услуги', 'Флористика', 'Фотостудии, фотолаборатории', 'Химикалии и смежные вещества, не классифицированные ранее', 'Ценные бумаги: брокеры/дилеры', 'Школы — бизнес и секретарей', 'Штучные товары, галантерея и другие текстильные товары', 'Электрические части и оборудование']\n"
     ]
    }
   ],
   "source": [
    "coef = model.coef_ # определение корелляции параметров и итогового признака gender\n",
    "features = X_train.columns.tolist()\n",
    "df = pd.DataFrame({'коэфф': coef[0], 'признаки': features})\n",
    "negative = df[df['коэфф'] < 0]['признаки'].tolist()\n",
    "print('Признаки, увеличивающие вероятность метки 0', negative)\n"
   ]
  },
  {
   "cell_type": "code",
   "execution_count": 29,
   "id": "3f0d0279",
   "metadata": {},
   "outputs": [
    {
     "name": "stdout",
     "output_type": "stream",
     "text": [
      "Признаки, увеличивающие вероятность метки 1 ['Авиалинии, авиакомпании', 'Автобусные линии', 'Автозапчасти и аксессуары', 'Автоматизированные бензозаправки', 'Автошины', 'Ассоциации — гражданские, социальные и братские', 'Бакалейные магазины, супермаркеты', 'Бары, коктейль-бары, дискотеки, ночные клубы и таверны — места продажи алкогольных напитков', 'Веломагазины — продажа и обслуживание', 'Видеопрокат', 'Галереи и художественные посредники', 'Галереи/учреждения видеоигр', 'Горючее топливо — уголь, нефть, разжиженный бензин, дрова', 'Дантисты, ортодонтисты', 'Денежные переводы MasterCard MoneySend', 'Детская одежда, включая одежду для самых маленьких', 'Доктора, нигде ранее не классифицируемые', 'Жилье — отели, мотели, курорты', 'Информационные провайдеры', 'Кабельные и другие платные телевизионные услуги', 'Канцелярия, офисные сопутствующие товары, бумага для печатания и письма', 'Кинотеатры', 'Книжные магазины', 'Колледжи, университеты, профессиональные школы и младшие колледжи', 'Компьютерная сеть/информационные услуги', 'Компьютеры, периферийное компьютерное оборудование, программное обеспечение', 'Круизные линии', 'Лесо- и строительный материал', 'Лимузины и такси', 'Магазины игрушек', 'Магазины кожаных изделий, дорожных принадлежностей', 'Магазины с продажей спиртных напитков на вынос (пиво, вино и ликер)', 'Магазины спорттоваров', 'Магазины фотооборудования и фотоприборов', 'Места общественного питания, рестораны', 'Мужская одежда и аксессуары, включая одежду для мальчиков', 'Мужская, женская и детская спец-одежда', 'Не-финансовые институты — иностранная валюта, денежные переводы (непередаваемые), дорожные чеки, квази-кэш', 'Оборудование для водопровода и отопительной системы', 'Оборудование и сопутствующие материалы для технического обеспечения', 'Оборудование, мебель и бытовые принадлежности (кроме электрооборудования)', 'Общий ремонт', 'Оптика, оптические товары и очки', 'Оптовики', 'Подрядчики, специализированная торговля — нигде более не классифицированные', 'Покрытия для пола', 'Поставщики провизии', 'Практикующие врачи, медицинские услуги, нигде ранее не классифицируемые', 'Принадлежности для видеоигр', 'Продажа молочных продуктов в розницу', 'Продажа свежего и мороженого мяса', 'Продажа электронного оборудования', 'Прокат автомобилей', 'Прямой маркетинг — входящий телемаркетинг', 'Прямой маркетинг — торговые точки подписки', 'Различные продовольственные магазины — рынки, магазины со спец-ассортиментом, продажа полуфабрикатов, фирменных блюд, продажа с помощью торговых автоматов', 'Различные специализированные магазины бытовых принадлежностей', 'Различные товары общего назначения', 'Рестораны, закусочные', 'СТО общего назначения', 'Садовые принадлежности (в том числе для ухода за газонами) в розницу', 'Салоты красоты и парикмахерские', 'Станции техобслуживания', 'Строительные материалы — нигде более не классифицированные', 'Судовые выплаты, включая алименты и детскую поддержку', 'Таймшер', 'Театральные продюсерские агентства', 'Телекоммуникационное оборудование, включая продажу телефонов', 'Товары недлительного пользования, не классифицированные ранее', 'Транзакции по азартным играм', 'Транспортировка — пригородные и локальные сезонные транспортные средства, включая электрички', 'Универмаги', 'Универсальные магазины', 'Услуги копировальных центров', 'Услуги курьера — по воздуху и на земле, агентство по отправке грузов', 'Услуги по транспортировке — нигде более не классифицированные', 'Финансовые институты — снятие наличности автоматически', 'Фотостудии', 'Химчистки', 'Центры здоровья', 'Цифровые товары, игры', 'Штрафы']\n"
     ]
    }
   ],
   "source": [
    "positive = df[df['коэфф'] > 0]['признаки'].tolist()\n",
    "print('Признаки, увеличивающие вероятность метки 1', positive)\n"
   ]
  },
  {
   "cell_type": "markdown",
   "id": "93723beb",
   "metadata": {},
   "source": [
    "# Часть 4: ва-банк / пространство для творчества [макс 30 баллов]"
   ]
  },
  {
   "cell_type": "markdown",
   "id": "97dc0173",
   "metadata": {},
   "source": [
    "Добейтесь максимального качества, больше качество - больше баллов.\n",
    "\n",
    "Стратегия подготовки данных и обучения модели на ваше усмотрение.\n",
    "\n",
    "Условия:\n",
    "* Оценка на отложенной тестовой группе пользователей, использовавшейся в прошлых пунктах (20%)\n",
    "* В качестве метрики используйте ROC_AUC\n",
    "\n",
    "__Замечание__: \n",
    "\n",
    "Ответа на вопрос \"какое нужно качество для максимального балла?\" не будет.\n",
    "\n",
    "Используйте все свои знания, чтобы добиться наилучшего результата."
   ]
  },
  {
   "cell_type": "code",
   "execution_count": 30,
   "id": "e442c16f",
   "metadata": {},
   "outputs": [],
   "source": [
    "import pandas as pd\n",
    "transactions = pd.read_csv('/Users/slitasov/Downloads/transactions.csv', sep=';')\n",
    "gender = pd.read_csv('/Users/slitasov/Downloads/gender.csv')\n",
    "pivoted = transactions.pivot_table(index='user_id', columns='type', values='value', aggfunc='sum')\n",
    "pivoted = pd.merge(pivoted, gender, on='user_id')"
   ]
  },
  {
   "cell_type": "code",
   "execution_count": 31,
   "id": "8d5fff1c",
   "metadata": {},
   "outputs": [],
   "source": [
    "import pandas \n",
    "pivoted = pivoted.fillna(pivoted.mean())"
   ]
  },
  {
   "cell_type": "code",
   "execution_count": 32,
   "id": "9bd97f06",
   "metadata": {},
   "outputs": [],
   "source": [
    "from sklearn.preprocessing import MinMaxScaler\n",
    "\n",
    "scaler = MinMaxScaler() # Изменим Scaler\n",
    "pivoted.drop(columns = 'user_id', inplace = True) # удалим колонку user_id за ненадобностью\n",
    "columns = pivoted.columns.tolist()\n",
    "pivoted = scaler.fit_transform(pivoted)\n",
    "pivoted = pd.DataFrame(pivoted, columns=columns)\n"
   ]
  },
  {
   "cell_type": "code",
   "execution_count": 33,
   "id": "faf021a5",
   "metadata": {},
   "outputs": [],
   "source": [
    "X_train, X_test, y_train, y_test = train_test_split(pivoted.drop(columns ='gender'), pivoted['gender'] , test_size=0.2, random_state = 43)"
   ]
  },
  {
   "cell_type": "code",
   "execution_count": 34,
   "id": "1e2a7e72",
   "metadata": {},
   "outputs": [
    {
     "data": {
      "text/plain": [
       "LogisticRegression(C=250, solver='sag')"
      ]
     },
     "execution_count": 34,
     "metadata": {},
     "output_type": "execute_result"
    }
   ],
   "source": [
    "from sklearn.model_selection import GridSearchCV\n",
    "from sklearn.metrics import roc_auc_score, accuracy_score, precision_score, recall_score\n",
    "\n",
    "model = LogisticRegression(penalty='l2')\n",
    "param_grid = {'solver': ['lbfgs', 'liblinear', 'sag', 'saga'], 'C': [10, 100, 150, 250]} # Измением параметры регуляризации\n",
    "grid_search = GridSearchCV(model, param_grid, cv=10, scoring='roc_auc')\n",
    "grid_search.fit(X_train, y_train)\n",
    "model = LogisticRegression(solver=grid_search.best_params_['solver'], C=grid_search.best_params_['C'], penalty='l2')\n",
    "model.fit(X_train, y_train)"
   ]
  },
  {
   "cell_type": "code",
   "execution_count": 35,
   "id": "0b959afb",
   "metadata": {},
   "outputs": [],
   "source": [
    "y_train_pred = model.predict_proba(X_train)[:, 1]\n",
    "y_test_pred = model.predict_proba(X_test)[:, 1]\n",
    "\n",
    "y_train_pred_labels = (y_train_pred>= 0.5)\n",
    "y_test_pred_labels = (y_test_pred >= 0.5)\n"
   ]
  },
  {
   "cell_type": "code",
   "execution_count": 36,
   "id": "7aeb70f4",
   "metadata": {},
   "outputs": [
    {
     "name": "stdout",
     "output_type": "stream",
     "text": [
      "ROC AUC 0.5611628081606248\n",
      "фccuracy 0.5711722488038278\n",
      "precision 0.5537190082644629\n",
      "recall 0.26587301587301587\n"
     ]
    }
   ],
   "source": [
    "roc_auc = roc_auc_score(y_test,  y_test_pred)\n",
    "accuracy = accuracy_score(y_test, y_test_pred_labels)\n",
    "precision =precision_score(y_test, y_test_pred_labels)\n",
    "recall =recall_score(y_test, y_test_pred_labels)\n",
    "\n",
    "print(\"ROC AUC\", roc_auc)\n",
    "print(\"фccuracy\", accuracy)\n",
    "print(\"precision\", precision)\n",
    "print(\"recall\", recall)"
   ]
  },
  {
   "cell_type": "markdown",
   "id": "0b8cc9a1",
   "metadata": {},
   "source": [
    "- В 4 пункте было использовано несколько других методов предобратотки, изменены параметры регуляризации и тип Scaler, однако сильно улучшить ROC AUC с использованием логистической регрессии не вышло\n",
    "\n",
    "- С использованием случайного леса ROC AUC составляет 0,8"
   ]
  },
  {
   "cell_type": "code",
   "execution_count": null,
   "id": "55ef5ca8",
   "metadata": {},
   "outputs": [],
   "source": []
  }
 ],
 "metadata": {
  "kernelspec": {
   "display_name": "Python 3 (ipykernel)",
   "language": "python",
   "name": "python3"
  },
  "language_info": {
   "codemirror_mode": {
    "name": "ipython",
    "version": 3
   },
   "file_extension": ".py",
   "mimetype": "text/x-python",
   "name": "python",
   "nbconvert_exporter": "python",
   "pygments_lexer": "ipython3",
   "version": "3.9.12"
  }
 },
 "nbformat": 4,
 "nbformat_minor": 5
}
